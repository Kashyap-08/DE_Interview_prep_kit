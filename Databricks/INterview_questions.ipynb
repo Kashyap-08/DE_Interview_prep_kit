{
 "cells": [
  {
   "cell_type": "markdown",
   "metadata": {},
   "source": [
    "## Tiger Analytics"
   ]
  },
  {
   "cell_type": "markdown",
   "metadata": {},
   "source": [
    "\n",
    "1.Describe your project experience, including specific examples and details about your role and contributions.\n",
    "\n",
    "2.Explain all concepts related to triggers in ADF.\n",
    "\n",
    "3.Describe how to implement all types of Slowly Changing Dimensions (SCD) in PySpark.\n",
    "\n",
    "4.How\n",
    " do you restart a pipeline in ADF if it fails?\n",
    "\n",
    "5.Explain how to configure Continuous Integration and Continuous Deployment (CI/CD) in notebooks.\n",
    "\n",
    "6.List and describe the activities used in ADF.\n",
    "\n",
    "7.Explain version control and time travel concepts in Delta Tables.\n",
    "\n",
    "8.Provide a brief introduction to Delta Tables.\n",
    "\n",
    "9.Describe the Medallion Architecture, including the Bronze, Silver, and Gold layers.\n",
    "\n",
    "10.How\n",
    " do you manage and store data in Databricks' default environment? Explain both managed and external tables.\n",
    "\n",
    "11.Describe the differences between repartition and coalesce in Spark.\n",
    "\n",
    "12.Write SQL and PySpark queries to find the third highest salary from a dataset.\n",
    "\n",
    "13.Python Array Manipulation\n",
    "\n",
    "14.Given an array [1, 2, 3, 4, 5, 6], write Python code to produce the output [2, 3, 4, 5, 6, 1].\n",
    "\n",
    "15.Explain the LEAD and LAG window functions in SQL and provide examples.\n",
    "\n",
    "16.Why is the broadcast join used in Spark? Provide an explanation with examples.\n",
    "\n",
    "17.Persisting and caching in pyspark.\n",
    "\n",
    "\n",
    "18.Describe the different read and write modes available in Spark."
   ]
  },
  {
   "cell_type": "markdown",
   "metadata": {},
   "source": []
  }
 ],
 "metadata": {
  "language_info": {
   "name": "python"
  }
 },
 "nbformat": 4,
 "nbformat_minor": 2
}
